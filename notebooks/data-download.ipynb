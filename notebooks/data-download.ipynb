{
 "cells": [
  {
   "cell_type": "code",
   "execution_count": 1,
   "id": "ac72273b-6724-4c09-aefc-07856ef54edc",
   "metadata": {},
   "outputs": [],
   "source": [
    "import sys\n",
    "import pandas as pd\n",
    "import snscrape.modules.twitter as sntwitter"
   ]
  },
  {
   "cell_type": "code",
   "execution_count": 2,
   "id": "26f7c772-b27e-4e58-a3ba-109a4ca22478",
   "metadata": {},
   "outputs": [],
   "source": [
    "sys.path.append(\"..\")# add o path local para possibilitar importações dos modulos de src\n",
    "from src.data.tweets_downloader import *"
   ]
  },
  {
   "cell_type": "markdown",
   "id": "59af19c9-4b76-4f98-8ed2-401366ae1b1e",
   "metadata": {},
   "source": [
    "### itens de busca"
   ]
  },
  {
   "cell_type": "code",
   "execution_count": 3,
   "id": "0158dab3-cc8c-431f-85c0-2b0945327fe1",
   "metadata": {},
   "outputs": [],
   "source": [
    "restaurantes = {\"mcdonalds\",\"méqui\",\"burger king\", \"girafas\", \"subway\",\"madero\",\n",
    "                \"starbucks\", \"pizza hut\", \"dominos\",\"habibs\",\"outback\",\"KFC\",}"
   ]
  },
  {
   "cell_type": "code",
   "execution_count": 4,
   "id": "4df36102-e419-4e5c-9ea9-3380ce1b341e",
   "metadata": {},
   "outputs": [],
   "source": [
    "sentimentos_positivos = {\"😍\", \"🥰\", \"😋\",\"🤩\",\"😀\",\"😇\"}\n",
    "sentimentos_negativos = {\"🤮\",\"🤢\",\"🤬\",\"😡\",\"😠\",\"💩\"}"
   ]
  },
  {
   "cell_type": "markdown",
   "id": "04040426-79fb-4346-b021-1fed11800ea2",
   "metadata": {},
   "source": [
    "## Data mining"
   ]
  },
  {
   "cell_type": "code",
   "execution_count": 35,
   "id": "cfed7521-4e33-4020-8ae6-747abd11879b",
   "metadata": {},
   "outputs": [],
   "source": [
    "queries_positivos = create_queries(restaurantes, sentimentos_positivos)\n",
    "queries_negativos = create_queries(restaurantes, sentimentos_negativos)"
   ]
  },
  {
   "cell_type": "code",
   "execution_count": 36,
   "id": "fd4a3c47-725c-4a56-bbcc-068c6c8b855e",
   "metadata": {},
   "outputs": [],
   "source": [
    "tweets_positivos = search(5e2, queries_positivos); # 50k tweets"
   ]
  },
  {
   "cell_type": "code",
   "execution_count": 37,
   "id": "8b2e699d-37ce-4501-9940-42755af608cd",
   "metadata": {},
   "outputs": [],
   "source": [
    "tweets_negativos = search(5e2, queries_negativos); # 50k tweets"
   ]
  },
  {
   "cell_type": "code",
   "execution_count": 39,
   "id": "c86b2e77-23c7-42f2-b837-928cb9fe157a",
   "metadata": {},
   "outputs": [],
   "source": [
    "#print(f\" Foram coletados {len(tweets_positivos)} Tweets positivos e {len(tweets_negativos)} tweets negativos\")"
   ]
  },
  {
   "cell_type": "markdown",
   "id": "13629728-ea30-4c4a-9c89-ecd15881fcb5",
   "metadata": {},
   "source": [
    "### Salvando os dados"
   ]
  },
  {
   "cell_type": "code",
   "execution_count": 30,
   "id": "b2a309a6-3c4a-43c7-a483-446637081dc9",
   "metadata": {},
   "outputs": [],
   "source": [
    "df_positivo = create_data_frame(tweets_positivos)\n",
    "df_negativo = create_data_frame(tweets_negativos)"
   ]
  },
  {
   "cell_type": "code",
   "execution_count": null,
   "id": "4d46de67-e8a8-4e03-aeb8-85722ef08bdb",
   "metadata": {},
   "outputs": [],
   "source": [
    "df_positivo.to_csv(\"data/raw/coleta-positivo-1.csv\", sep=\"\\t\", index=False)"
   ]
  },
  {
   "cell_type": "code",
   "execution_count": null,
   "id": "c9430561-3c56-4ecb-b9dc-8321cca634e1",
   "metadata": {},
   "outputs": [],
   "source": [
    "df_negativo.to_csv(\"data/raw/coleta-negativo-1.csv\", sep=\"\\t\", index=False)"
   ]
  }
 ],
 "metadata": {
  "kernelspec": {
   "display_name": "Python 3 (ipykernel)",
   "language": "python",
   "name": "python3"
  },
  "language_info": {
   "codemirror_mode": {
    "name": "ipython",
    "version": 3
   },
   "file_extension": ".py",
   "mimetype": "text/x-python",
   "name": "python",
   "nbconvert_exporter": "python",
   "pygments_lexer": "ipython3",
   "version": "3.8.10"
  }
 },
 "nbformat": 4,
 "nbformat_minor": 5
}
